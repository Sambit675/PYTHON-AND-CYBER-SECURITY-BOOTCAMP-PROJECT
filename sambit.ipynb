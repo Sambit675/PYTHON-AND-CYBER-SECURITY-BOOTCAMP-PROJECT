{
  "nbformat": 4,
  "nbformat_minor": 0,
  "metadata": {
    "colab": {
      "name": "sambit.ipynb",
      "provenance": [],
      "collapsed_sections": []
    },
    "kernelspec": {
      "name": "python3",
      "display_name": "Python 3"
    },
    "language_info": {
      "name": "python"
    }
  },
  "cells": [
    {
      "cell_type": "code",
      "metadata": {
        "id": "bL8h10jkH_C6"
      },
      "source": [
        "import requests"
      ],
      "execution_count": 2,
      "outputs": []
    },
    {
      "cell_type": "code",
      "metadata": {
        "id": "V1J3xfxpIZoz"
      },
      "source": [
        "from datetime import datetime"
      ],
      "execution_count": 3,
      "outputs": []
    },
    {
      "cell_type": "code",
      "metadata": {
        "colab": {
          "base_uri": "https://localhost:8080/"
        },
        "id": "N_q6HWEkIfJV",
        "outputId": "a69bb159-eaa2-4df0-ef32-4839704a751f"
      },
      "source": [
        "api_key='eb3dbed5874b4160446a5e21f99be24b'\n",
        "location=input(\"Enter city name:\")"
      ],
      "execution_count": 18,
      "outputs": [
        {
          "output_type": "stream",
          "text": [
            "Enter city name:ranchi\n"
          ],
          "name": "stdout"
        }
      ]
    },
    {
      "cell_type": "code",
      "metadata": {
        "id": "fMJG6Nt9Jqaj"
      },
      "source": [
        "complete_api_link=\"https://api.openweathermap.org/data/2.5/weather?q=\"+location+\"&appid=\"+api_key\n",
        "api_link=requests.get(complete_api_link)\n",
        "api_data=api_link.json()"
      ],
      "execution_count": 19,
      "outputs": []
    },
    {
      "cell_type": "code",
      "metadata": {
        "id": "I1JGliQuLFFB"
      },
      "source": [
        "temp_city=((api_data['main']['temp'])-273.15)\n",
        "weather_desc=api_data['weather'][0]['description']\n",
        "hmdt=api_data['main']['humidity']\n",
        "wind_spd=api_data['wind']['speed']\n",
        "date_time=datetime.now().strftime(\"%d %b%y | %I:%M:%S:%p\")"
      ],
      "execution_count": 20,
      "outputs": []
    },
    {
      "cell_type": "code",
      "metadata": {
        "colab": {
          "base_uri": "https://localhost:8080/"
        },
        "id": "Kjv96YHY6luK",
        "outputId": "76e54cba-9ac2-48ce-d4b6-bf1b2fc9bac0"
      },
      "source": [
        "print(\"---------------------------------\")\n",
        "print(\"Weather stats for -{} || {}\".format(location.upper(),date_time))\n",
        "print(\"---------------------------------\")\n",
        "print(\"current temperature is : {:.2f} deg C\".format(temp_city))\n",
        "print(\"current weather desc   :\",weather_desc)\n",
        "print(\"current humidity       :\",hmdt, '%' )    \n",
        "print(\"current wind speed     :\",wind_spd,'kmph')"
      ],
      "execution_count": 22,
      "outputs": [
        {
          "output_type": "stream",
          "text": [
            "---------------------------------\n",
            "Weather stats for -RANCHI || 23 Jun21 | 06:32:13:AM\n",
            "---------------------------------\n",
            "current temperature is : 26.06 deg C\n",
            "current weather desc   : haze\n",
            "current humidity       : 83 %\n",
            "current wind speed     : 3.09 kmph\n"
          ],
          "name": "stdout"
        }
      ]
    }
  ]
}